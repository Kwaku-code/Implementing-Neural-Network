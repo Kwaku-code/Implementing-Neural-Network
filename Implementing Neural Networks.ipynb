{
 "cells": [
  {
   "cell_type": "code",
   "execution_count": null,
   "metadata": {},
   "outputs": [],
   "source": [
    "import pandas as pd\n",
    "import tensorflow\n",
    "from sklearn.model_selection import train_test_split\n",
    "from sklearn.compose import ColumnTransformer\n",
    "from sklearn.preprocessing import StandardScaler\n",
    "from tensorflow.keras.models import Sequential\n",
    "from tensorflow.keras.layers import InputLayer\n",
    "from tensorflow.keras.layers import Dense\n",
    "from tensorflow.keras.optimizers import Adam\n",
    "\n",
    "tensorflow.random.set_seed(35) #for the reproducibility of results\n",
    "\n",
    "def design_model(features):\n",
    "  model = Sequential(name = \"my_first_model\")\n",
    "  #without hard-coding\n",
    "  input = InputLayer(input_shape=(features.shape[1],)) \n",
    "  #add the input layer\n",
    "  model.add(input) \n",
    "  #add a hidden layer with 128 neurons\n",
    "  model.add(Dense(128, activation='relu')) \n",
    "  #add an output layer to our model\n",
    "  model.add(Dense(1)) \n",
    "  opt = Adam(learning_rate=0.1)\n",
    "  model.compile(loss='mse',  metrics=['mae'], optimizer=opt)\n",
    "  return model\n",
    "\n",
    "dataset = pd.read_csv('insurance.csv') #load the dataset\n",
    "features = dataset.iloc[:,0:6] #choose first 7 columns as features\n",
    "labels = dataset.iloc[:,-1] #choose the final column for prediction\n",
    "\n",
    "features = pd.get_dummies(features) #one-hot encoding for categorical variables\n",
    "features_train, features_test, labels_train, labels_test = train_test_split(features, labels, test_size=0.33, random_state=42) #split the data into training and test data\n",
    " \n",
    "#standardize\n",
    "ct = ColumnTransformer([('standardize', StandardScaler(), ['age', 'bmi', 'children'])], remainder='passthrough')\n",
    "features_train = ct.fit_transform(features_train)\n",
    "features_test = ct.transform(features_test)\n",
    "\n",
    "#invoke the function for our model design\n",
    "model = design_model(features_train)\n",
    "print(model.summary())\n",
    "\n",
    "#fit the model using 40 epochs and batch size 1\n",
    "model.fit(features_train, labels_train, epochs=40, batch_size=1, verbose=1)\n",
    "#evaluate the model on the test data\n",
    "val_mse, val_mae = model.evaluate(features_test)\n",
    " \n",
    "print(\"MAE: \", val_mae)"
   ]
  }
 ],
 "metadata": {
  "kernelspec": {
   "display_name": "Python 3",
   "language": "python",
   "name": "python3"
  },
  "language_info": {
   "codemirror_mode": {
    "name": "ipython",
    "version": 3
   },
   "file_extension": ".py",
   "mimetype": "text/x-python",
   "name": "python",
   "nbconvert_exporter": "python",
   "pygments_lexer": "ipython3",
   "version": "3.7.3"
  }
 },
 "nbformat": 4,
 "nbformat_minor": 2
}
